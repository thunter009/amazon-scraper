{
 "cells": [
  {
   "cell_type": "code",
   "execution_count": 273,
   "metadata": {
    "collapsed": true
   },
   "outputs": [],
   "source": [
    "import pandas as pd\n",
    "import numpy as np\n",
    "from lxml import etree\n",
    "import json\n",
    "import pdb"
   ]
  },
  {
   "cell_type": "markdown",
   "metadata": {},
   "source": [
    "#USER AGENTS"
   ]
  },
  {
   "cell_type": "code",
   "execution_count": 330,
   "metadata": {
    "collapsed": true
   },
   "outputs": [],
   "source": [
    "df = load_data('data/products2.json')"
   ]
  },
  {
   "cell_type": "code",
   "execution_count": 384,
   "metadata": {
    "collapsed": true
   },
   "outputs": [],
   "source": [
    "def load_data(file_name):\n",
    "    with open(file_name) as d:\n",
    "        data = json.load(d)\n",
    "        d.close()\n",
    "    return pd.DataFrame(data)\n",
    "\n",
    "\n",
    "def remove_punc_nan(df, col, punc):\n",
    "    holder = []\n",
    "    for item in df[col]:\n",
    "        if not type(item) is float:\n",
    "            item = item.strip(str(punc))\n",
    "        holder.append(item)\n",
    "    df[col] = holder\n",
    "    return df"
   ]
  },
  {
   "cell_type": "code",
   "execution_count": 385,
   "metadata": {
    "collapsed": false
   },
   "outputs": [],
   "source": [
    "    # 1_star - DONE\n",
    "    # 2_star - DONE\n",
    "    # 3_star - DONE\n",
    "    # 4_star - DONE\n",
    "    # 5_star - DONE\n",
    "    star_cols = ['1_star', '2_star', '3_star', '4_star', '5_star']\n",
    "    for star in star_cols:\n",
    "        remove_punc_nan(df, star, '%')\n",
    "\n",
    "    # ASIN - WIP - Ignore/coerce to nan bad ASINs for now\n",
    "    # Batteries - DONE - DONE\n",
    "    # Best_Sellers_Rank - DONE\n",
    "    df.drop(['Best_Sellers_Rank'], axis=1, inplace=True)\n",
    "    # California_residents - DONE - DONE\n",
    "    # Customer_Reviews -\n",
    "    # Department -  - DONE\n",
    "    # Domestic_Shipping - DONE\n",
    "    df.replace(to_replace='Item can be shipped within U.S.', value={\n",
    "               'Domestic_Shipping': 'Domestic'}, inplace=True)\n",
    "    df.replace(to_replace='This item is not eligible for international \\\n",
    "                           shipping.', value={\n",
    "               'Domestic_Shipping': 'Domestic'}, inplace=True)\n",
    "    df.replace(to_replace='This item can be shipped to select countries outside\\\n",
    "                           of the U.S.', value={\n",
    "               'Domestic_Shipping': 'International'}, inplace=True)\n",
    "    df.replace(to_replace='Currently, item can be shipped only within the U.S. \\\n",
    "                            and to APO/FPO addresses. For APO/FPO shipments, \\\n",
    "                            please check with the manufacturer regarding \\\n",
    "                            warranty and support issues.',\n",
    "               value={'Domestic_Shipping': 'Domestic'}, inplace=True)\n",
    "    # International_Shipping - WIP--use: # (?=International)*(?=Domestic)*\n",
    "    df.drop(['International_Shipping'], axis=1, inplace=True)\n",
    "    # Item_Weight - DONE\n",
    "    # Item_model_number - DONE\n",
    "    # Manufacturer - DONE\n",
    "    # Manufacturer_recommended_age - DONE\n",
    "    # Media - DONE\n",
    "    # Origin - DONE\n",
    "    # Pricing - DONE\n",
    "    # Product_Dimensions - DONE\n",
    "    df.replace(to_replace='Currently, item can be shipped only within the U.S. \\\n",
    "                            and to APO/FPO addresses. For APO/FPO shipments, \\\n",
    "                            please check with the manufacturer regarding \\\n",
    "                            warranty and support issues.',\n",
    "               value={'Product_Dimensions': np.nan}, inplace=True)\n",
    "    df.replace(to_replace='Item can be shipped within U.S.',\n",
    "               value={'Product_Dimensions': np.nan}, inplace=True)\n",
    "    # Release_date - DONE\n",
    "    # Shipping_Information - DONE\n",
    "    df.drop(['Shipping_Information'], axis=1, inplace=True)\n",
    "    # Shipping_Weight - DONE\n",
    "    # about - DONE\n",
    "    # avg_rating - DONE\n",
    "    df.replace(to_replace=r'(?![0-9][\\.])( out of 5 stars)',\n",
    "               value={'avg_rating': ''}, inplace=True, regex=True)\n",
    "    df.replace(to_replace='', value={'avg_rating': np.nan}, inplace=True)\n",
    "    # category - DONE\n",
    "    # description - DONE\n",
    "    # in_stock - WIP\n",
    "    df.replace(to_replace=r'(?![0-9])?(?=\\s+left in stock.)*(Only\\s+|\\s+left in stock - order soon.\\s+)+',\n",
    "               value={'in_stock': ''}, inplace=True, regex=True)\n",
    "    df.replace(to_replace=r'(?![0-9])?(\\s+left in stock.)+',\n",
    "               value={'in_stock': ''}, inplace=True, regex=True)\n",
    "    # convert in stock/electronic goods to 9999\n",
    "    df.replace(to_replace=r'(Sold by Amazon Appstore|In Stock\\.|Available from these sellers\\.)', value={\n",
    "               'in_stock': '9999'}, inplace=True, regex=True)\n",
    "    # list_price - DONE\n",
    "    df['list_price'].fillna(value=0, inplace=True)\n",
    "    df.replace(to_replace=r'\\$', value={\n",
    "               'list_price': ''}, inplace=True, regex=True)\n",
    "    df['list_price'] = pd.to_numeric(df['list_price'], errors='ignore')\n",
    "    # sale_price - DONE\n",
    "    df['sale_price'].fillna(value=0, inplace=True)\n",
    "    df.replace(to_replace=r'\\$', value={\n",
    "               'sale_price': ''}, inplace=True, regex=True)\n",
    "    df['sale_price'] = pd.to_numeric(df['sale_price'], errors='ignore')\n",
    "    # num_questions - DONE\n",
    "    df.replace(to_replace=r'(?![0-9])(.)+',\n",
    "               value={'num_questions': ''}, inplace=True, regex=True)\n",
    "    df.replace(to_replace='', value={'num_questions': np.nan}, inplace=True)\n",
    "    df['num_questions'] = pd.to_numeric(df['num_questions'], errors='ignore')\n",
    "    # num_reviews - DONE\n",
    "    df.replace(to_replace=r'(\\,)', value={\n",
    "               'num_reviews': ''}, inplace=True, regex=True)\n",
    "    df['num_reviews'] = pd.to_numeric(df['num_reviews'], errors='ignore')\n",
    "    # product_title - DONE\n",
    "    df.replace(to_replace='', value={'product_title': np.nan}, inplace=True)\n",
    "    # reviews_url - DONE\n",
    "    # root_or_child - DONE\n",
    "    # shipping - DONE\n",
    "    # url - DONE"
   ]
  },
  {
   "cell_type": "code",
   "execution_count": 464,
   "metadata": {
    "collapsed": false
   },
   "outputs": [],
   "source": [
    "df_mod = df.loc[\n",
    "        (~df['1_star'].isnull()) &\n",
    "        (~df['2_star'].isnull()) &\n",
    "        (~df['3_star'].isnull()) &\n",
    "        (~df['4_star'].isnull()) &\n",
    "        (~df['5_star'].isnull()) &\n",
    "        (~df['ASIN'].isnull()), \n",
    "        ]"
   ]
  },
  {
   "cell_type": "code",
   "execution_count": 469,
   "metadata": {
    "collapsed": true
   },
   "outputs": [],
   "source": [
    "    urls_to_revisit = df.loc[\n",
    "        (~df['1_star'].isnull()) &\n",
    "        (~df['2_star'].isnull()) &\n",
    "        (~df['3_star'].isnull()) &\n",
    "        (~df['4_star'].isnull()) &\n",
    "        (~df['5_star'].isnull()) &\n",
    "        (~df['ASIN'].isnull()), 'url'\n",
    "    ]"
   ]
  },
  {
   "cell_type": "code",
   "execution_count": 473,
   "metadata": {
    "collapsed": false
   },
   "outputs": [
    {
     "data": {
      "text/plain": [
       "Index(['1_star', '2_star', '3_star', '4_star', '5_star', 'ASIN', 'Batteries',\n",
       "       'California_residents', 'Customer_Reviews', 'Date_First_Available',\n",
       "       'Department', 'Discontinued_by_manufacturer', 'Domestic_Shipping',\n",
       "       'Item_Weight', 'Item_model_number', 'Manufacturer',\n",
       "       'Manufacturer_recommended_age', 'Media', 'Origin', 'Pricing',\n",
       "       'Product_Dimensions', 'Release_date', 'Shipping_Advisory',\n",
       "       'Shipping_Weight', 'about', 'avg_rating', 'category', 'description',\n",
       "       'list_price', 'num_questions', 'num_reviews', 'product_title',\n",
       "       'reviews_url', 'root_or_child', 'sale_price', 'shipping', 'url'],\n",
       "      dtype='object')"
      ]
     },
     "execution_count": 473,
     "metadata": {},
     "output_type": "execute_result"
    }
   ],
   "source": [
    "df_mod.columns"
   ]
  },
  {
   "cell_type": "code",
   "execution_count": 472,
   "metadata": {
    "collapsed": false
   },
   "outputs": [],
   "source": [
    "df_mod.to_csv('data/products_cleaned.csv')"
   ]
  },
  {
   "cell_type": "code",
   "execution_count": 470,
   "metadata": {
    "collapsed": true
   },
   "outputs": [],
   "source": [
    "urls_to_revisit.to_csv('data/products_toscrape.csv')"
   ]
  },
  {
   "cell_type": "code",
   "execution_count": null,
   "metadata": {
    "collapsed": true
   },
   "outputs": [],
   "source": []
  }
 ],
 "metadata": {
  "anaconda-cloud": {},
  "kernelspec": {
   "display_name": "Python [default]",
   "language": "python",
   "name": "python3"
  },
  "language_info": {
   "codemirror_mode": {
    "name": "ipython",
    "version": 3
   },
   "file_extension": ".py",
   "mimetype": "text/x-python",
   "name": "python",
   "nbconvert_exporter": "python",
   "pygments_lexer": "ipython3",
   "version": "3.5.2"
  }
 },
 "nbformat": 4,
 "nbformat_minor": 0
}
